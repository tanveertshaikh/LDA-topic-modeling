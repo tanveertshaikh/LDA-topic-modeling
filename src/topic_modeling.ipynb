{
 "cells": [
  {
   "cell_type": "markdown",
   "metadata": {},
   "source": [
    "# Topic Modeling using Latent Dirichlet Allocation (LDA)"
   ]
  },
  {
   "cell_type": "markdown",
   "metadata": {},
   "source": [
    "The Vox News corpus is a collection of all Vox articles published before March 21, 2017. Vox Media released this dataset as part of the KDD 2017 Workshop on Data Science + Journalism. Their goal for publishing this dataset was to enable data science researchers to apply various techniques on a news dataset.\n",
    "\n",
    "<b>The dataset consists of 22,994 news articles with their titles, author names, categories, published dates, updated on dates, links to the articles and their short descriptions (8 columns). While visualizing the dataset, I noticed that all the articles are clustered by 185 distinct categories. Out of those articles, 7145 articles were tageed by the category \"The Latest\". It cannot be a coincidence that such a large number of articles would be tagged by a generic category. Hence, I decided to address this problem by unsupervised learning because the categories of articles cannot be predicted beforehand neither the articles can be tagged by their categories in the training dataset.</b>\n",
    "\n",
    "<b>We get a crude idea of the article by just skimming through the category of the article. Hence, topic modeling is useful for categorizing or ranking articles which are remaining to be read by an individual. Moreover, clustering of articles based on topics also enable them to be organized by groups of similar topics inside a database. This simplifies the collective analysis of such Big Data especially in the field of News and Journalism where an enormous amount of data is archived and retrieved only when needed. Categorical clustering will also make information retrieval quicker and more efficient.</b>\n",
    "\n",
    "We can analyze the title, short description and the body of these 7145 articles and predict their categories by using Topic Modeling.\n",
    "\n",
    "In reality, analyzing the body would drastically improve the topic model. However, due to time constraints and proclivity towards minimalism, I have decided to drop the body column entirely. Also, parsing html tags in the body of articles would be a time-consuming task in itself.\n",
    "\n",
    "In machine learning and natural language processing, a topic model is a type of statistical model for discovering the abstract \"topics\" that occur in a collection of documents. Topic modeling is a frequently used text-mining tool for discovery of hidden semantic structures in a text body. Intuitively, given that a document is about a particular topic, one would expect particular words to appear in the document more or less frequently: \"dog\" and \"bone\" will appear more often in documents about dogs, \"cat\" and \"meow\" will appear in documents about cats, and \"the\" and \"is\" will appear equally in both. A document typically concerns multiple topics in different proportions; thus, in a document that is 10% about cats and 90% about dogs, there would probably be about 9 times more dog words than cat words. The \"topics\" produced by topic modeling techniques are clusters of similar words. A topic model captures this intuition in a mathematical framework, which allows examining a set of documents and discovering, based on the statistics of the words in each, what the topics might be and what each document's balance of topics is.\n",
    "\n",
    "Topic models are also referred to as probabilistic topic models as they are based on probabilistic graphical modeling, which refers to statistical algorithms for discovering the latent semantic structures of an extensive text body. In the age of information, the amount of the written material we encounter each day is simply beyond our processing capacity. Topic models can help to organize and offer insights for us to understand large collections of unstructured text bodies. Originally developed as a text-mining tool, topic models have been used to detect instructive structures in data such as genetic information, images, and networks. They also have applications in other fields such as bioinformatics. [Source: https://en.wikipedia.org/wiki/Topic_model]"
   ]
  },
  {
   "cell_type": "markdown",
   "metadata": {},
   "source": [
    "The necessary python libraries and packages like numpy, pandas, matplotlib and scikit-learn have been imported"
   ]
  },
  {
   "cell_type": "code",
   "execution_count": 2,
   "metadata": {},
   "outputs": [],
   "source": [
    "%matplotlib inline\n",
    "import pickle\n",
    "import pprint\n",
    "import random\n",
    "import warnings\n",
    "import time\n",
    "\n",
    "# numpy, pandas, matplotlib and regular expressions (data science essentials)\n",
    "import numpy as np\n",
    "import pandas as pd\n",
    "import matplotlib.pyplot as plt\n",
    "import seaborn as sns\n",
    "import re\n",
    "\n",
    "# tqdm\n",
    "from tqdm import tqdm\n",
    "\n",
    "# spacy\n",
    "import spacy\n",
    "from spacy.lang.en import English\n",
    "import en_core_web_sm\n",
    "\n",
    "# gensim\n",
    "import gensim\n",
    "from gensim import corpora\n",
    "from gensim.models import CoherenceModel\n",
    "\n",
    "# nltk\n",
    "import nltk\n",
    "from nltk.corpus import wordnet as wn\n",
    "from nltk.corpus import words\n",
    "from nltk.stem.wordnet import WordNetLemmatizer\n",
    "\n",
    "# pyLDAvis\n",
    "import pyLDAvis\n",
    "import pyLDAvis.gensim\n",
    "\n",
    "# styling\n",
    "pd.set_option('display.max_columns',150)\n",
    "plt.style.use('bmh')\n",
    "from IPython.display import display"
   ]
  },
  {
   "cell_type": "markdown",
   "metadata": {},
   "source": [
    "### 1)  Data Visualization"
   ]
  },
  {
   "cell_type": "markdown",
   "metadata": {},
   "source": [
    "This bubble chart quantifies the number of articles written by different authors.  [Source: https://data.world/elenadata/vox-articles]"
   ]
  },
  {
   "cell_type": "markdown",
   "metadata": {},
   "source": [
    "![Figure 1](../bin/resources/articles-per-author.png \"Figure 1\")"
   ]
  },
  {
   "cell_type": "markdown",
   "metadata": {},
   "source": [
    "This graph signifies the gradual increase in the number of articles being published during each month. However, the average articles published in the months of 2017 and 2016 seems to be the similar.  [Source: https://data.world/elenadata/vox-articles]"
   ]
  },
  {
   "cell_type": "markdown",
   "metadata": {},
   "source": [
    "![Figure 2](../bin/resources/articles-by-month.png \"Figure 2\")"
   ]
  },
  {
   "cell_type": "markdown",
   "metadata": {},
   "source": [
    "The entire dataset consists of a total of 185 distinct topics. This bubble plot shows records grouped by category. We can observe that the category \"The Latest\" has the maximum number of records."
   ]
  },
  {
   "cell_type": "markdown",
   "metadata": {},
   "source": [
    "![Figure 3](../bin/resources/records-by-category.png \"Figure 3\")"
   ]
  },
  {
   "cell_type": "markdown",
   "metadata": {},
   "source": [
    "This bar graph tells us the distribution of records around topics and also around different authors who have written about the same topic"
   ]
  },
  {
   "cell_type": "markdown",
   "metadata": {},
   "source": [
    "![Figure 4](../bin/resources/records-by-category-&-author.png \"Figure 4\")"
   ]
  },
  {
   "cell_type": "markdown",
   "metadata": {},
   "source": [
    "There are a number of algorithms developed for topic modeling which use singular value decomposition (SVD) and the method of moments. These algorithms are listed below:\n",
    "<ul>Explicit semantic analysis</ul>\n",
    "<ul>Latent semantic analysis</ul>\n",
    "<ul>Latent Dirichlet Allocation (LDA)</ul>\n",
    "<ul>Hierarchical Dirichlet process</ul>\n",
    "<ul>Non-Negative Matrix Factorization (NMF)</ul>\n",
    "\n",
    "I decided to use LDA as it is widely praised topic modeling technique by researchers and data scientists. Owing to my Data Mining project, I also had prior experience on working with Gensim library in Python which has a robust LDA model. LDA is a kind of probabilistic model that exploits similarity between data and extracts inference from the resulting analysis.\n",
    "\n",
    "In natural language processing, Latent Dirichlet allocation (LDA) is a generative statistical model that allows sets of observations to be explained by unobserved groups that explain why some parts of the data are similar. For example, if observations are words collected into documents, it posits that each document is a mixture of a small number of topics and that each word's creation is attributable to one of the document's topics. LDA is an example of a topic model and was first presented as a graphical model for topic discovery by David Blei, Andrew Ng, and Michael I. Jordan in 2003. Essentially the same model was also proposed independently by J. K. Pritchard, M. Stephens, and P. Donnelly in the study of population genetics in 2000. Both papers have been highly influential, with 19858 and 20416 citations respectively by August 2017.  [Source: https://en.wikipedia.org/wiki/Latent_Dirichlet_allocation]\n",
    "\n",
    "In simple words, one can say that LDA converts a set of documents into a set of topics"
   ]
  },
  {
   "cell_type": "markdown",
   "metadata": {},
   "source": [
    "This cell will auto-download the required NLTK modules"
   ]
  },
  {
   "cell_type": "code",
   "execution_count": 3,
   "metadata": {
    "scrolled": false
   },
   "outputs": [
    {
     "name": "stdout",
     "output_type": "stream",
     "text": [
      "[nltk_data] Downloading package wordnet to\n",
      "[nltk_data]     /Users/tanveershaikh/nltk_data...\n",
      "[nltk_data]   Package wordnet is already up-to-date!\n",
      "[nltk_data] Downloading package stopwords to\n",
      "[nltk_data]     /Users/tanveershaikh/nltk_data...\n",
      "[nltk_data]   Package stopwords is already up-to-date!\n"
     ]
    }
   ],
   "source": [
    "warnings.simplefilter('ignore')\n",
    "\n",
    "nltk.download('wordnet')\n",
    "nltk.download('stopwords')\n",
    "\n",
    "nlp = spacy.load('en')\n",
    "# nlp = en_core_web_sm.load()"
   ]
  },
  {
   "cell_type": "markdown",
   "metadata": {},
   "source": [
    "Using NLTK, I am creating a corpus of English words and also an object of the lemmatizer is being created using WordNet"
   ]
  },
  {
   "cell_type": "code",
   "execution_count": 4,
   "metadata": {},
   "outputs": [],
   "source": [
    "# Initialization and Global Variables\n",
    "dictionary = dict.fromkeys(words.words(), None)\n",
    "lemmatizer = WordNetLemmatizer()\n",
    "pp = pprint.PrettyPrinter(indent = 4)\n",
    "\n",
    "# List for filtering out stop words\n",
    "en_stop = set(nltk.corpus.stopwords.words('english'))"
   ]
  },
  {
   "cell_type": "markdown",
   "metadata": {},
   "source": [
    "### 2) Reading the dataset (dsjVoxArticles.tsv) - Data Extraction"
   ]
  },
  {
   "cell_type": "markdown",
   "metadata": {},
   "source": [
    "News Article topic modeling is an unsupervised machine learning method that helps us discover hidden semantic structures in an article, that allows us to learn topic representations of articles in a corpus."
   ]
  },
  {
   "cell_type": "markdown",
   "metadata": {},
   "source": [
    "The data is being fetched from the data.world URL and converted into a Pandas DataFrame in the following cell"
   ]
  },
  {
   "cell_type": "code",
   "execution_count": 5,
   "metadata": {
    "scrolled": false
   },
   "outputs": [
    {
     "name": "stdout",
     "output_type": "stream",
     "text": [
      "Loading Data...\n"
     ]
    }
   ],
   "source": [
    "print(\"Loading Data...\")\n",
    "\n",
    "url = \"https://query.data.world/s/ee6arp6cngynnoj4hvyuhckn3tb4hj\"\n",
    "df = pd.read_csv(url, delimiter = '\\t', encoding = 'utf-8')"
   ]
  },
  {
   "cell_type": "markdown",
   "metadata": {},
   "source": [
    "Selecting only the articles having category as 'The Latest' and dropping all other articles which have their correct categories would be unfair because we are dropping our training data. Hence, I am keeping all 22,994 rows"
   ]
  },
  {
   "cell_type": "markdown",
   "metadata": {},
   "source": [
    "### 3) Exploratory Analysis"
   ]
  },
  {
   "cell_type": "markdown",
   "metadata": {},
   "source": [
    "This section deals with exploring and analyzing the dataset. It will give us a deeper understanding of the dataset by making us familiar with all the rows and columns of the dataset."
   ]
  },
  {
   "cell_type": "code",
   "execution_count": 6,
   "metadata": {
    "scrolled": false
   },
   "outputs": [
    {
     "data": {
      "text/html": [
       "<div>\n",
       "<style scoped>\n",
       "    .dataframe tbody tr th:only-of-type {\n",
       "        vertical-align: middle;\n",
       "    }\n",
       "\n",
       "    .dataframe tbody tr th {\n",
       "        vertical-align: top;\n",
       "    }\n",
       "\n",
       "    .dataframe thead th {\n",
       "        text-align: right;\n",
       "    }\n",
       "</style>\n",
       "<table border=\"1\" class=\"dataframe\">\n",
       "  <thead>\n",
       "    <tr style=\"text-align: right;\">\n",
       "      <th></th>\n",
       "      <th>title</th>\n",
       "      <th>author</th>\n",
       "      <th>category</th>\n",
       "      <th>published_date</th>\n",
       "      <th>updated_on</th>\n",
       "      <th>slug</th>\n",
       "      <th>blurb</th>\n",
       "      <th>body</th>\n",
       "    </tr>\n",
       "  </thead>\n",
       "  <tbody>\n",
       "    <tr>\n",
       "      <th>0</th>\n",
       "      <td>Bitcoin is down 60 percent this year. Here's w...</td>\n",
       "      <td>Timothy B. Lee</td>\n",
       "      <td>Business &amp; Finance</td>\n",
       "      <td>2014-03-31 14:01:30</td>\n",
       "      <td>2014-12-16 16:37:36</td>\n",
       "      <td>http://www.vox.com/2014/3/31/5557170/bitcoin-b...</td>\n",
       "      <td>Bitcoins have lost more than 60 percent of the...</td>\n",
       "      <td>&lt;p&gt;The markets haven't been kind to&lt;span&gt; &lt;/sp...</td>\n",
       "    </tr>\n",
       "    <tr>\n",
       "      <th>1</th>\n",
       "      <td>6 health problems marijuana could treat better...</td>\n",
       "      <td>German Lopez</td>\n",
       "      <td>War on Drugs</td>\n",
       "      <td>2014-03-31 15:44:21</td>\n",
       "      <td>2014-11-17 00:20:33</td>\n",
       "      <td>http://www.vox.com/2014/3/31/5557700/six-probl...</td>\n",
       "      <td>Medical marijuana could fill gaps that current...</td>\n",
       "      <td>&lt;p&gt;Twenty states have so far legalized the med...</td>\n",
       "    </tr>\n",
       "    <tr>\n",
       "      <th>2</th>\n",
       "      <td>9 charts that explain the history of global we...</td>\n",
       "      <td>Matthew Yglesias</td>\n",
       "      <td>Business &amp; Finance</td>\n",
       "      <td>2014-04-10 13:30:01</td>\n",
       "      <td>2014-12-16 15:47:02</td>\n",
       "      <td>http://www.vox.com/2014/4/10/5561608/9-charts-...</td>\n",
       "      <td>These nine charts from Thomas Piketty's new bo...</td>\n",
       "      <td>&lt;p&gt;Thomas Piketty's book &lt;i&gt;Capital in the 21s...</td>\n",
       "    </tr>\n",
       "    <tr>\n",
       "      <th>3</th>\n",
       "      <td>Remember when legal marijuana was going to sen...</td>\n",
       "      <td>German Lopez</td>\n",
       "      <td>Criminal Justice</td>\n",
       "      <td>2014-04-03 23:25:55</td>\n",
       "      <td>2014-05-06 21:58:42</td>\n",
       "      <td>http://www.vox.com/2014/4/3/5563134/marijuana-...</td>\n",
       "      <td>Three months after legalizing marijuana, Denve...</td>\n",
       "      <td>&lt;p&gt;&lt;span&gt;When Colorado legalized recreational ...</td>\n",
       "    </tr>\n",
       "    <tr>\n",
       "      <th>4</th>\n",
       "      <td>Obamacare succeeded for one simple reason: it'...</td>\n",
       "      <td>Sarah Kliff</td>\n",
       "      <td>Health Care</td>\n",
       "      <td>2014-04-01 20:26:14</td>\n",
       "      <td>2014-11-18 15:09:14</td>\n",
       "      <td>http://www.vox.com/2014/4/1/5570780/the-two-re...</td>\n",
       "      <td>After a catastrophic launch, Obamacare still s...</td>\n",
       "      <td>&lt;p&gt;There's a very simple reason that Obamacare...</td>\n",
       "    </tr>\n",
       "  </tbody>\n",
       "</table>\n",
       "</div>"
      ],
      "text/plain": [
       "                                               title            author  \\\n",
       "0  Bitcoin is down 60 percent this year. Here's w...    Timothy B. Lee   \n",
       "1  6 health problems marijuana could treat better...      German Lopez   \n",
       "2  9 charts that explain the history of global we...  Matthew Yglesias   \n",
       "3  Remember when legal marijuana was going to sen...      German Lopez   \n",
       "4  Obamacare succeeded for one simple reason: it'...       Sarah Kliff   \n",
       "\n",
       "             category       published_date           updated_on  \\\n",
       "0  Business & Finance  2014-03-31 14:01:30  2014-12-16 16:37:36   \n",
       "1        War on Drugs  2014-03-31 15:44:21  2014-11-17 00:20:33   \n",
       "2  Business & Finance  2014-04-10 13:30:01  2014-12-16 15:47:02   \n",
       "3    Criminal Justice  2014-04-03 23:25:55  2014-05-06 21:58:42   \n",
       "4         Health Care  2014-04-01 20:26:14  2014-11-18 15:09:14   \n",
       "\n",
       "                                                slug  \\\n",
       "0  http://www.vox.com/2014/3/31/5557170/bitcoin-b...   \n",
       "1  http://www.vox.com/2014/3/31/5557700/six-probl...   \n",
       "2  http://www.vox.com/2014/4/10/5561608/9-charts-...   \n",
       "3  http://www.vox.com/2014/4/3/5563134/marijuana-...   \n",
       "4  http://www.vox.com/2014/4/1/5570780/the-two-re...   \n",
       "\n",
       "                                               blurb  \\\n",
       "0  Bitcoins have lost more than 60 percent of the...   \n",
       "1  Medical marijuana could fill gaps that current...   \n",
       "2  These nine charts from Thomas Piketty's new bo...   \n",
       "3  Three months after legalizing marijuana, Denve...   \n",
       "4  After a catastrophic launch, Obamacare still s...   \n",
       "\n",
       "                                                body  \n",
       "0  <p>The markets haven't been kind to<span> </sp...  \n",
       "1  <p>Twenty states have so far legalized the med...  \n",
       "2  <p>Thomas Piketty's book <i>Capital in the 21s...  \n",
       "3  <p><span>When Colorado legalized recreational ...  \n",
       "4  <p>There's a very simple reason that Obamacare...  "
      ]
     },
     "execution_count": 6,
     "metadata": {},
     "output_type": "execute_result"
    }
   ],
   "source": [
    "# Prints out the first 5 rows of data in the dataset\n",
    "df.head()"
   ]
  },
  {
   "cell_type": "code",
   "execution_count": 7,
   "metadata": {},
   "outputs": [
    {
     "data": {
      "text/html": [
       "<div>\n",
       "<style scoped>\n",
       "    .dataframe tbody tr th:only-of-type {\n",
       "        vertical-align: middle;\n",
       "    }\n",
       "\n",
       "    .dataframe tbody tr th {\n",
       "        vertical-align: top;\n",
       "    }\n",
       "\n",
       "    .dataframe thead th {\n",
       "        text-align: right;\n",
       "    }\n",
       "</style>\n",
       "<table border=\"1\" class=\"dataframe\">\n",
       "  <thead>\n",
       "    <tr style=\"text-align: right;\">\n",
       "      <th></th>\n",
       "      <th>title</th>\n",
       "      <th>author</th>\n",
       "      <th>category</th>\n",
       "      <th>published_date</th>\n",
       "      <th>updated_on</th>\n",
       "      <th>slug</th>\n",
       "      <th>blurb</th>\n",
       "      <th>body</th>\n",
       "    </tr>\n",
       "  </thead>\n",
       "  <tbody>\n",
       "    <tr>\n",
       "      <th>23019</th>\n",
       "      <td>Marijuana legalization opponents warned teen p...</td>\n",
       "      <td>German Lopez</td>\n",
       "      <td>The Latest</td>\n",
       "      <td>2017-03-21 19:30:01</td>\n",
       "      <td>2017-03-21 19:51:00</td>\n",
       "      <td>http://www.vox.com/policy-and-politics/2017/3/...</td>\n",
       "      <td></td>\n",
       "      <td>&lt;p id=\"6OljE3\"&gt;So far, &lt;a href=\"http://www.vox...</td>\n",
       "    </tr>\n",
       "    <tr>\n",
       "      <th>23020</th>\n",
       "      <td>4 ways the House health care vote could go dow...</td>\n",
       "      <td>Andrew Prokop</td>\n",
       "      <td>The Latest</td>\n",
       "      <td>2017-03-21 21:41:12</td>\n",
       "      <td>2017-03-21 23:46:25</td>\n",
       "      <td>http://www.vox.com/policy-and-politics/2017/3/...</td>\n",
       "      <td>This Thursday should be an eventful day.</td>\n",
       "      <td>&lt;p id=\"5WuiOu\"&gt;House Speaker Paul Ryan still a...</td>\n",
       "    </tr>\n",
       "    <tr>\n",
       "      <th>23021</th>\n",
       "      <td>In search of Forrest Fenn's treasure</td>\n",
       "      <td>Zachary Crockett</td>\n",
       "      <td>First Person</td>\n",
       "      <td>2017-02-28 12:33:27</td>\n",
       "      <td>2017-02-28 14:12:31</td>\n",
       "      <td>http://www.vox.com/a/fenn-treasure-hunt-map</td>\n",
       "      <td></td>\n",
       "      <td>&lt;div class=\"restricted\"&gt; \\n \\n      &lt;p class=...</td>\n",
       "    </tr>\n",
       "    <tr>\n",
       "      <th>23022</th>\n",
       "      <td>Oscars 2017: every movie nominated for an Acad...</td>\n",
       "      <td>Sarah Frostenson</td>\n",
       "      <td>The Latest</td>\n",
       "      <td>2017-02-23 20:20:01</td>\n",
       "      <td>2017-02-26 14:10:56</td>\n",
       "      <td>http://www.vox.com/a/oscars-2017-movies-nominees</td>\n",
       "      <td>Yes, even 13 Hours: The Secret Soldiers of Ben...</td>\n",
       "      <td>&lt;h2 id=\"RCAyzl\"&gt;&lt;a href=\"http://www.imdb.com/...</td>\n",
       "    </tr>\n",
       "    <tr>\n",
       "      <th>23023</th>\n",
       "      <td>Transcript: President Trumpâ€™s speech to Cong...</td>\n",
       "      <td>Vox Staff</td>\n",
       "      <td>Congress</td>\n",
       "      <td>2017-03-01 01:06:07</td>\n",
       "      <td>2017-03-01 04:06:34</td>\n",
       "      <td>http://www.vox.com/a/trump-speech-transcript-j...</td>\n",
       "      <td></td>\n",
       "      <td>&lt;p&gt;President Trump took a trip up Pennsylvani...</td>\n",
       "    </tr>\n",
       "  </tbody>\n",
       "</table>\n",
       "</div>"
      ],
      "text/plain": [
       "                                                   title            author  \\\n",
       "23019  Marijuana legalization opponents warned teen p...      German Lopez   \n",
       "23020  4 ways the House health care vote could go dow...     Andrew Prokop   \n",
       "23021               In search of Forrest Fenn's treasure  Zachary Crockett   \n",
       "23022  Oscars 2017: every movie nominated for an Acad...  Sarah Frostenson   \n",
       "23023  Transcript: President Trumpâ€™s speech to Cong...         Vox Staff   \n",
       "\n",
       "           category       published_date           updated_on  \\\n",
       "23019    The Latest  2017-03-21 19:30:01  2017-03-21 19:51:00   \n",
       "23020    The Latest  2017-03-21 21:41:12  2017-03-21 23:46:25   \n",
       "23021  First Person  2017-02-28 12:33:27  2017-02-28 14:12:31   \n",
       "23022    The Latest  2017-02-23 20:20:01  2017-02-26 14:10:56   \n",
       "23023      Congress  2017-03-01 01:06:07  2017-03-01 04:06:34   \n",
       "\n",
       "                                                    slug  \\\n",
       "23019  http://www.vox.com/policy-and-politics/2017/3/...   \n",
       "23020  http://www.vox.com/policy-and-politics/2017/3/...   \n",
       "23021        http://www.vox.com/a/fenn-treasure-hunt-map   \n",
       "23022   http://www.vox.com/a/oscars-2017-movies-nominees   \n",
       "23023  http://www.vox.com/a/trump-speech-transcript-j...   \n",
       "\n",
       "                                                   blurb  \\\n",
       "23019                                                      \n",
       "23020           This Thursday should be an eventful day.   \n",
       "23021                                                      \n",
       "23022  Yes, even 13 Hours: The Secret Soldiers of Ben...   \n",
       "23023                                                      \n",
       "\n",
       "                                                    body  \n",
       "23019  <p id=\"6OljE3\">So far, <a href=\"http://www.vox...  \n",
       "23020  <p id=\"5WuiOu\">House Speaker Paul Ryan still a...  \n",
       "23021   <div class=\"restricted\"> \\n \\n      <p class=...  \n",
       "23022   <h2 id=\"RCAyzl\"><a href=\"http://www.imdb.com/...  \n",
       "23023   <p>President Trump took a trip up Pennsylvani...  "
      ]
     },
     "execution_count": 7,
     "metadata": {},
     "output_type": "execute_result"
    }
   ],
   "source": [
    "# Prints out the last 5 rows of data in the dataset\n",
    "df.tail()"
   ]
  },
  {
   "cell_type": "code",
   "execution_count": 8,
   "metadata": {},
   "outputs": [
    {
     "data": {
      "text/html": [
       "<div>\n",
       "<style scoped>\n",
       "    .dataframe tbody tr th:only-of-type {\n",
       "        vertical-align: middle;\n",
       "    }\n",
       "\n",
       "    .dataframe tbody tr th {\n",
       "        vertical-align: top;\n",
       "    }\n",
       "\n",
       "    .dataframe thead th {\n",
       "        text-align: right;\n",
       "    }\n",
       "</style>\n",
       "<table border=\"1\" class=\"dataframe\">\n",
       "  <thead>\n",
       "    <tr style=\"text-align: right;\">\n",
       "      <th></th>\n",
       "      <th>title</th>\n",
       "      <th>author</th>\n",
       "      <th>category</th>\n",
       "      <th>published_date</th>\n",
       "      <th>updated_on</th>\n",
       "      <th>slug</th>\n",
       "      <th>blurb</th>\n",
       "      <th>body</th>\n",
       "    </tr>\n",
       "  </thead>\n",
       "  <tbody>\n",
       "    <tr>\n",
       "      <th>count</th>\n",
       "      <td>23024</td>\n",
       "      <td>23023</td>\n",
       "      <td>23013</td>\n",
       "      <td>23013</td>\n",
       "      <td>23013</td>\n",
       "      <td>23013</td>\n",
       "      <td>23013</td>\n",
       "      <td>23013</td>\n",
       "    </tr>\n",
       "    <tr>\n",
       "      <th>unique</th>\n",
       "      <td>22977</td>\n",
       "      <td>825</td>\n",
       "      <td>185</td>\n",
       "      <td>22825</td>\n",
       "      <td>22474</td>\n",
       "      <td>23013</td>\n",
       "      <td>20043</td>\n",
       "      <td>23013</td>\n",
       "    </tr>\n",
       "    <tr>\n",
       "      <th>top</th>\n",
       "      <td>Republican debate 2016 live stream: time, TV s...</td>\n",
       "      <td>German Lopez</td>\n",
       "      <td>The Latest</td>\n",
       "      <td>2016-07-13 12:00:03</td>\n",
       "      <td>2016-11-16 21:01:35</td>\n",
       "      <td>http://www.vox.com/2016/1/27/10835038/amazon-h...</td>\n",
       "      <td></td>\n",
       "      <td>&lt;p&gt;On September 21 and 22, &lt;a href=\"https://co...</td>\n",
       "    </tr>\n",
       "    <tr>\n",
       "      <th>freq</th>\n",
       "      <td>7</td>\n",
       "      <td>2243</td>\n",
       "      <td>7152</td>\n",
       "      <td>9</td>\n",
       "      <td>24</td>\n",
       "      <td>1</td>\n",
       "      <td>2729</td>\n",
       "      <td>1</td>\n",
       "    </tr>\n",
       "  </tbody>\n",
       "</table>\n",
       "</div>"
      ],
      "text/plain": [
       "                                                    title        author  \\\n",
       "count                                               23024         23023   \n",
       "unique                                              22977           825   \n",
       "top     Republican debate 2016 live stream: time, TV s...  German Lopez   \n",
       "freq                                                    7          2243   \n",
       "\n",
       "          category       published_date           updated_on  \\\n",
       "count        23013                23013                23013   \n",
       "unique         185                22825                22474   \n",
       "top     The Latest  2016-07-13 12:00:03  2016-11-16 21:01:35   \n",
       "freq          7152                    9                   24   \n",
       "\n",
       "                                                     slug  blurb  \\\n",
       "count                                               23013  23013   \n",
       "unique                                              23013  20043   \n",
       "top     http://www.vox.com/2016/1/27/10835038/amazon-h...          \n",
       "freq                                                    1   2729   \n",
       "\n",
       "                                                     body  \n",
       "count                                               23013  \n",
       "unique                                              23013  \n",
       "top     <p>On September 21 and 22, <a href=\"https://co...  \n",
       "freq                                                    1  "
      ]
     },
     "execution_count": 8,
     "metadata": {},
     "output_type": "execute_result"
    }
   ],
   "source": [
    "# Summary statistics about the data column-wise\n",
    "df.describe()"
   ]
  },
  {
   "cell_type": "markdown",
   "metadata": {},
   "source": [
    "### 4) Data Pre-Processing"
   ]
  },
  {
   "cell_type": "markdown",
   "metadata": {},
   "source": [
    "#### Split Training and Testing sets"
   ]
  },
  {
   "cell_type": "code",
   "execution_count": 9,
   "metadata": {},
   "outputs": [
    {
     "name": "stdout",
     "output_type": "stream",
     "text": [
      "Splitting Data...\n"
     ]
    }
   ],
   "source": [
    "print(\"Splitting Data...\")\n",
    "\n",
    "# Training set with all 20003 rows\n",
    "df_train = df.copy()\n",
    "\n",
    "# Duplicate the original dataset\n",
    "df_test = df.copy()\n",
    "\n",
    "# Drop rows with category \"The Latest\" from our training dataset\n",
    "df_train = df_train.loc[df_train['category'] != 'The Latest']"
   ]
  },
  {
   "cell_type": "markdown",
   "metadata": {},
   "source": [
    "Initially, the data pre-processing steps include dropping the irrelevant columns from the dataframe and then dropping the rows having any of the values as NaN.\n",
    "\n",
    "But before doing that step, empty cell locations are being checked or the ones having whitespaces. These rows are marked and dropped entirely."
   ]
  },
  {
   "cell_type": "code",
   "execution_count": 10,
   "metadata": {},
   "outputs": [
    {
     "name": "stdout",
     "output_type": "stream",
     "text": [
      "Cleaning the dataset...\n"
     ]
    }
   ],
   "source": [
    "print(\"Cleaning the dataset...\")\n",
    "\n",
    "columns_train = ['author','category','published_date','updated_on','slug','body']\n",
    "df_train.drop(columns_train, axis = 1, inplace = True)\n",
    "\n",
    "columns_test = ['author','published_date','updated_on','slug','body']\n",
    "df_test.drop(columns_test, axis = 1, inplace = True)"
   ]
  },
  {
   "cell_type": "code",
   "execution_count": 11,
   "metadata": {},
   "outputs": [
    {
     "name": "stdout",
     "output_type": "stream",
     "text": [
      "(23024, 8)\n",
      "2\n"
     ]
    }
   ],
   "source": [
    "print(df.shape)\n",
    "print(df.ndim)"
   ]
  },
  {
   "cell_type": "markdown",
   "metadata": {},
   "source": [
    "I decided to drop missing values as we have a large number of records to train on and the number of records having at least 1 value missing is negligible. Hence, it will only have minuscule effect on our model’s performance which can be neglected. <br>\n",
    "\n",
    "<br>I am deleting the author, published_date and updated_on columns as they are irrelevant to my end goal, which is, topic modeling using the title and blurb (short description).<br>\n",
    "\n",
    "<br>I have also decided to delete the slug and body columns as this is just a naive implementation of topic modeling. I will have to consider those two columns after completing this project to make my topic modeling more coherent.\n",
    "Also, I am dropping the category column as I am trying to determine that attribute itself and unsupervised learning does not require the training labels.\n"
   ]
  },
  {
   "cell_type": "markdown",
   "metadata": {},
   "source": [
    "### 5) Feature Selection"
   ]
  },
  {
   "cell_type": "code",
   "execution_count": 12,
   "metadata": {
    "scrolled": false
   },
   "outputs": [
    {
     "name": "stdout",
     "output_type": "stream",
     "text": [
      "Removing missing values...\n"
     ]
    }
   ],
   "source": [
    "print(\"Removing missing values...\")\n",
    "\n",
    "df_train['blurb'].replace(' ', np.nan, inplace = True)\n",
    "df_train.dropna(axis = 0, how = 'any', inplace = True)\n",
    "\n",
    "df_test['blurb'].replace(' ', np.nan, inplace = True)\n",
    "df_test.dropna(axis = 0, how = 'any', inplace = True)"
   ]
  },
  {
   "cell_type": "markdown",
   "metadata": {},
   "source": [
    "I am performing the operation of cleaning up weird characters from the dataframe. These characters exist because the string data was decoded in another format and is now being encoded in UTF-8 format"
   ]
  },
  {
   "cell_type": "code",
   "execution_count": 13,
   "metadata": {
    "scrolled": false
   },
   "outputs": [
    {
     "name": "stdout",
     "output_type": "stream",
     "text": [
      "Removing non-ascii and non-unicode characters...\n",
      "Checking values...\n"
     ]
    }
   ],
   "source": [
    "print(\"Removing non-ascii and non-unicode characters...\")\n",
    "\n",
    "df_train.apply(lambda x: x.apply(lambda y: y.strip() if type(y) == type('') else y), axis=0)\n",
    "\n",
    "df_train['blurb'] = df_train['blurb'].str.replace('â€™',\"'\").str.replace('â€”',\"-\").str.replace('â€œ','\"').str.replace('â€','\"')\n",
    "df_train['blurb'] = df_train['blurb'].str.strip()\n",
    "df_train['blurb'] = df_train['blurb'].apply(lambda x: x.strip())\n",
    "\n",
    "df_train['title'] = df_train['title'].str.replace('â€™',\"'\").str.replace('â€”',\"-\").str.replace('â€œ','\"').str.replace('â€','\"')\n",
    "df_train['title'] = df_train['title'].str.strip()\n",
    "df_train['title'] = df_train['title'].apply(lambda x: x.strip())\n",
    "\n",
    "# Same operation on test dataset\n",
    "df_test.apply(lambda x: x.apply(lambda y: y.strip() if type(y) == type('') else y), axis=0)\n",
    "\n",
    "df_test['blurb'] = df_test['blurb'].str.replace('â€™',\"'\").str.replace('â€”',\"-\").str.replace('â€œ','\"').str.replace('â€','\"')\n",
    "df_test['blurb'] = df_test['blurb'].str.strip()\n",
    "df_test['blurb'] = df_test['blurb'].apply(lambda x: x.strip())\n",
    "\n",
    "df_test['title'] = df_test['title'].str.replace('â€™',\"'\").str.replace('â€”',\"-\").str.replace('â€œ','\"').str.replace('â€','\"')\n",
    "df_test['title'] = df_test['title'].str.strip()\n",
    "df_test['title'] = df_test['title'].apply(lambda x: x.strip())\n",
    "\n",
    "# Checking Values\n",
    "print(\"Checking values...\")\n",
    "# print(df_train.at[23003, 'blurb'])"
   ]
  },
  {
   "cell_type": "markdown",
   "metadata": {},
   "source": [
    "Here, I am keeping only the distinct (unique) values of titles as well as of the blurb and dropping duplicates"
   ]
  },
  {
   "cell_type": "code",
   "execution_count": 14,
   "metadata": {
    "scrolled": false
   },
   "outputs": [
    {
     "name": "stdout",
     "output_type": "stream",
     "text": [
      "Removing Duplicates...\n"
     ]
    }
   ],
   "source": [
    "print(\"Removing Duplicates...\")\n",
    "\n",
    "df_train = df_train.drop_duplicates('blurb')\n",
    "df_train = df_train.drop_duplicates('title')\n",
    "\n",
    "df_test = df_test.drop_duplicates('blurb')\n",
    "df_test = df_test.drop_duplicates('title')"
   ]
  },
  {
   "cell_type": "markdown",
   "metadata": {},
   "source": [
    "Converting our dataset into a collection of 5495 documents with just 1 column consisting of title concatenated with blurb."
   ]
  },
  {
   "cell_type": "code",
   "execution_count": 15,
   "metadata": {},
   "outputs": [
    {
     "name": "stdout",
     "output_type": "stream",
     "text": [
      "Creating Training and Test Sets...\n"
     ]
    }
   ],
   "source": [
    "print(\"Creating Training and Test Sets...\")\n",
    "\n",
    "df_train['documents'] = df_train['title'].map(str) + '. ' + df_train['blurb'].map(str)\n",
    "\n",
    "df_test['documents'] = df_test['title'].map(str) + '. ' + df_test['blurb'].map(str)"
   ]
  },
  {
   "cell_type": "code",
   "execution_count": 16,
   "metadata": {},
   "outputs": [],
   "source": [
    "columns = ['title','blurb']\n",
    "df_train.drop(columns, axis = 1, inplace = True)\n",
    "\n",
    "df_test.drop(columns, axis = 1, inplace = True)"
   ]
  },
  {
   "cell_type": "markdown",
   "metadata": {},
   "source": [
    "Selecting only the articles having category as 'The Latest' and dropping all other articles which have their correct categories to build our test set"
   ]
  },
  {
   "cell_type": "code",
   "execution_count": 17,
   "metadata": {},
   "outputs": [
    {
     "name": "stdout",
     "output_type": "stream",
     "text": [
      "(14554, 1)\n",
      "2\n",
      "(5455, 1)\n",
      "2\n"
     ]
    }
   ],
   "source": [
    "# Test set with only approximately 5554 articles which have category as \"The Latest\"\n",
    "df_test = df_test.loc[df_test['category'] == 'The Latest']\n",
    "df_test.drop('category', axis = 1, inplace = True)\n",
    "\n",
    "print(df_train.shape)\n",
    "print(df_train.ndim)\n",
    "\n",
    "print(df_test.shape)\n",
    "print(df_test.ndim)"
   ]
  },
  {
   "cell_type": "markdown",
   "metadata": {},
   "source": [
    "LDA Implementation Process:<br>\n",
    "<br>The number of topics should have been already decided even if we're not sure what the topics are.\n",
    "<br>Each document is represented as a distribution over topics.\n",
    "<br>Each topic is represented as a distribution over words."
   ]
  },
  {
   "cell_type": "markdown",
   "metadata": {},
   "source": [
    "### 6) Text Cleaning and Tokenization"
   ]
  },
  {
   "cell_type": "markdown",
   "metadata": {},
   "source": [
    "The following function cleans our text and returns a list of tokens"
   ]
  },
  {
   "cell_type": "code",
   "execution_count": 18,
   "metadata": {},
   "outputs": [],
   "source": [
    "parser = English()\n",
    "def tokenize(text):\n",
    "    lda_tokens = []\n",
    "    tokens = parser(text)\n",
    "    for token in tokens:\n",
    "        if token.orth_.isspace():\n",
    "            continue\n",
    "        elif token.like_url:\n",
    "            lda_tokens.append('URL')\n",
    "        elif token.orth_.startswith('@'):\n",
    "            lda_tokens.append('SCREEN_NAME')\n",
    "        else:\n",
    "            lda_tokens.append(token.lower_)\n",
    "    return lda_tokens"
   ]
  },
  {
   "cell_type": "markdown",
   "metadata": {},
   "source": [
    "### 7) Lemmatization"
   ]
  },
  {
   "cell_type": "markdown",
   "metadata": {},
   "source": [
    "Next, I will use NLTK's Wordnet to find the synonyms, antonyms and the meanings of words. In addition, WordNetLemmatizer() will give us the root word of a token. (similar to stemming but better)"
   ]
  },
  {
   "cell_type": "code",
   "execution_count": 19,
   "metadata": {},
   "outputs": [],
   "source": [
    "def get_lemma(word):\n",
    "    lemma = wn.morphy(word)\n",
    "    if lemma is None:\n",
    "        return word\n",
    "    else:\n",
    "        return lemma"
   ]
  },
  {
   "cell_type": "markdown",
   "metadata": {},
   "source": [
    "I am trying to make my code modularized by defining functions for specific tasks. \n",
    "\n",
    "Like, I defined this function to prepare the text for topic modeling"
   ]
  },
  {
   "cell_type": "markdown",
   "metadata": {},
   "source": [
    "### 8) Stopwords Removal"
   ]
  },
  {
   "cell_type": "code",
   "execution_count": 20,
   "metadata": {},
   "outputs": [],
   "source": [
    "def prepare_text_for_lda(text):\n",
    "    tokens = tokenize(text)\n",
    "    tokens = [token for token in tokens if len(token) > 4]\n",
    "    tokens = [token for token in tokens if token not in en_stop]\n",
    "    tokens = [get_lemma(token) for token in tokens]\n",
    "    return tokens"
   ]
  },
  {
   "cell_type": "markdown",
   "metadata": {},
   "source": [
    "### 9) Feature Extraction"
   ]
  },
  {
   "cell_type": "markdown",
   "metadata": {},
   "source": [
    "The following function opens our data frame, reads each row sequentially; and for each row, prepares text for LDA, and then adds it to a list. This function calls the helper function prepare_text_for_lda(text) which in-turn calls all the other functions I defined above\n",
    "\n",
    "The following cell shows how each of our document is being tokenized. Each and every document is getting converted into a list of tokens."
   ]
  },
  {
   "cell_type": "code",
   "execution_count": 21,
   "metadata": {
    "scrolled": false
   },
   "outputs": [
    {
     "name": "stderr",
     "output_type": "stream",
     "text": [
      "\r",
      "  0%|          | 0/14554 [00:00<?, ?it/s]"
     ]
    },
    {
     "name": "stdout",
     "output_type": "stream",
     "text": [
      "Document-Term Matrix is being created...\n"
     ]
    },
    {
     "name": "stderr",
     "output_type": "stream",
     "text": [
      "100%|██████████| 14554/14554 [00:17<00:00, 821.40it/s]\n"
     ]
    }
   ],
   "source": [
    "print(\"Document-Term Matrix is being created...\")\n",
    "\n",
    "text_data = []\n",
    "for row in tqdm(df_train['documents']):\n",
    "    tokens = prepare_text_for_lda(row)\n",
    "    #if random.random() > .99:\n",
    "        #print(tokens)\n",
    "    text_data.append(tokens)"
   ]
  },
  {
   "cell_type": "markdown",
   "metadata": {},
   "source": [
    "### 10) Feature Engineering"
   ]
  },
  {
   "cell_type": "markdown",
   "metadata": {},
   "source": [
    "The word dictionary and corpus needed for topic modeling are created and saved on disk for further usage"
   ]
  },
  {
   "cell_type": "markdown",
   "metadata": {},
   "source": [
    "#### LDA with Gensim"
   ]
  },
  {
   "cell_type": "markdown",
   "metadata": {},
   "source": [
    "Firstly, I am creating a dictionary from our data, then I am converting it into a bag-of-words corpus and then saving the dictionary and corpus for future use using pickle library"
   ]
  },
  {
   "cell_type": "code",
   "execution_count": 22,
   "metadata": {},
   "outputs": [
    {
     "name": "stdout",
     "output_type": "stream",
     "text": [
      "Generating corpus and dictionary...\n"
     ]
    }
   ],
   "source": [
    "print(\"Generating corpus and dictionary...\")\n",
    "\n",
    "dictionary = corpora.Dictionary(text_data)\n",
    "corpus = [dictionary.doc2bow(text) for text in text_data]\n",
    "pickle.dump(corpus, open('../bin/resources/corpus.pkl', 'wb'))\n",
    "dictionary.save('../bin/resources/dictionary.gensim')"
   ]
  },
  {
   "cell_type": "markdown",
   "metadata": {},
   "source": [
    "### 11) Building the Topic Model (Training)"
   ]
  },
  {
   "cell_type": "markdown",
   "metadata": {},
   "source": [
    "Now, the number of topics in the articles will be proportional to the number of articles in the dataset. For our original dataset consisting of 22,994 articles, we had around 185 distinct topics. Proportionally, for our subset of articles; it can be inferred that we will have around 42 unique topics. So , the total topics to be trained on becomes 227\n",
    "\n",
    "However, this is just a rough estimate. The optimal value of the number of topics for LDA will be tuned by considering it as a hyperparameter later.\n",
    "\n",
    "LDA is finding 227 topics from our data\n",
    "\n",
    "[UPDATE: After cross-validation and hyper parameter tuning by taking coherence score as a metric, I have concluded that 100 is the accurate value for NUM_TOPICS]"
   ]
  },
  {
   "cell_type": "code",
   "execution_count": 23,
   "metadata": {},
   "outputs": [
    {
     "name": "stdout",
     "output_type": "stream",
     "text": [
      "Training LDA model on train dataframe...\n",
      "Training Time --- 160.95 seconds \n"
     ]
    }
   ],
   "source": [
    "print(\"Training LDA model on train dataframe...\")\n",
    "\n",
    "NUM_TOPICS = 100\n",
    "start_time = time.time()\n",
    "ldamodel = gensim.models.ldamodel.LdaModel(corpus, \n",
    "                                           num_topics=NUM_TOPICS, \n",
    "                                           random_state=89, \n",
    "                                           update_every=1,  \n",
    "                                           id2word=dictionary, \n",
    "                                           passes=42, \n",
    "                                           alpha='auto', \n",
    "                                           per_word_topics=True)\n",
    "\n",
    "ldamodel.save('../bin/resources/model100.gensim')\n",
    "train_time = time.time() - start_time\n",
    "print(\"Training Time --- %s seconds \" % (round(train_time, 2)))"
   ]
  },
  {
   "cell_type": "markdown",
   "metadata": {},
   "source": [
    "Here, our coupus is the collection of term vectors for each document. Hence, it is also called as the Document-Term Matrix. Its dimensions are [number of documents x number of words in the dictionary(vocabulary)]\n",
    "\n",
    "The above LDA model is built with 100 different topics where each topic is a combination of keywords and each keyword contributes a certain weightage to the topic. You can see the keywords for each topic and the weightage(importance) of each keyword using lda_model.print_topics() as shown next."
   ]
  },
  {
   "cell_type": "code",
   "execution_count": 24,
   "metadata": {},
   "outputs": [
    {
     "name": "stdout",
     "output_type": "stream",
     "text": [
      "Allocated models of each topic...\n",
      "(   53,\n",
      "    '0.127*\"book\" + 0.060*\"baltimore\" + 0.052*\"county\" + 0.052*\"dream\" + '\n",
      "    '0.049*\"corruption\" + 0.044*\"influence\" + 0.034*\"football\" + '\n",
      "    '0.033*\"prosecutor\" + 0.032*\"twist\" + 0.029*\"louis\"')\n",
      "(   90,\n",
      "    '0.069*\"destroy\" + 0.069*\"summer\" + 0.060*\"normal\" + 0.056*\"heart\" + '\n",
      "    '0.040*\"especially\" + 0.039*\"equal\" + 0.038*\"paragraph\" + 0.036*\"current\" '\n",
      "    '+ 0.033*\"solution\" + 0.028*\"smith\"')\n",
      "(   82,\n",
      "    '0.113*\"street\" + 0.054*\"funny\" + 0.050*\"martin\" + 0.041*\"survive\" + '\n",
      "    '0.038*\"outside\" + 0.035*\"buying\" + 0.034*\"easily\" + 0.033*\"bill\" + '\n",
      "    '0.031*\"declare\" + 0.028*\"harry\"')\n",
      "(   8,\n",
      "    '0.073*\"oscar\" + 0.070*\"poverty\" + 0.055*\"hear\" + 0.041*\"track\" + '\n",
      "    '0.039*\"pattern\" + 0.039*\"showing\" + 0.032*\"spy\" + 0.031*\"collapse\" + '\n",
      "    '0.030*\"discus\" + 0.027*\"document\"')\n",
      "(   27,\n",
      "    '0.107*\"words\" + 0.076*\"border\" + 0.045*\"germany\" + 0.043*\"replace\" + '\n",
      "    '0.038*\"skeptical\" + 0.035*\"mostly\" + 0.031*\"mental\" + 0.028*\"turning\" + '\n",
      "    '0.028*\"explain\" + 0.026*\"judges\"')\n",
      "(   56,\n",
      "    '0.124*\"fail\" + 0.122*\"evidence\" + 0.082*\"controversy\" + 0.050*\"improve\" + '\n",
      "    '0.045*\"mexico\" + 0.035*\"giant\" + 0.035*\"rank\" + 0.031*\"spoiler\" + '\n",
      "    '0.031*\"ambitious\" + 0.030*\"chaos\"')\n",
      "(   37,\n",
      "    '0.131*\"bring\" + 0.119*\"doctor\" + 0.069*\"europe\" + 0.059*\"pay\" + '\n",
      "    '0.059*\"modern\" + 0.050*\"torture\" + 0.044*\"breaking\" + 0.030*\"whatever\" + '\n",
      "    '0.030*\"saving\" + 0.025*\"stereotype\"')\n",
      "(   48,\n",
      "    '0.155*\"create\" + 0.098*\"racial\" + 0.077*\"victim\" + 0.059*\"vaccine\" + '\n",
      "    '0.045*\"actual\" + 0.035*\"information\" + 0.034*\"cartoon\" + 0.032*\"people\" + '\n",
      "    '0.027*\"lawmaker\" + 0.024*\"obesity\"')\n",
      "(   12,\n",
      "    '0.113*\"racism\" + 0.086*\"governor\" + 0.058*\"base\" + 0.054*\"latino\" + '\n",
      "    '0.033*\"fascinate\" + 0.031*\"closing\" + 0.031*\"high\" + 0.029*\"enforcement\" '\n",
      "    '+ 0.029*\"people\" + 0.025*\"surge\"')\n",
      "(   0,\n",
      "    '0.089*\"energy\" + 0.079*\"scott\" + 0.061*\"walker\" + 0.052*\"conversation\" + '\n",
      "    '0.051*\"colbert\" + 0.045*\"stephen\" + 0.044*\"investigation\" + 0.034*\"clean\" '\n",
      "    '+ 0.031*\"cycle\" + 0.026*\"label\"')\n",
      "(   7,\n",
      "    '0.184*\"american\" + 0.153*\"white\" + 0.129*\"black\" + 0.086*\"start\" + '\n",
      "    '0.068*\"people\" + 0.048*\"believe\" + 0.047*\"plan\" + 0.031*\"massive\" + '\n",
      "    '0.027*\"phone\" + 0.025*\"treat\"')\n",
      "(   97,\n",
      "    '0.139*\"presidential\" + 0.121*\"every\" + 0.102*\"movie\" + 0.058*\"running\" + '\n",
      "    '0.054*\"almost\" + 0.047*\"nothing\" + 0.042*\"parent\" + 0.030*\"process\" + '\n",
      "    '0.028*\"continue\" + 0.027*\"trouble\"')\n",
      "(   71,\n",
      "    '0.418*\"clinton\" + 0.276*\"hillary\" + 0.054*\"muslim\" + 0.043*\"different\" + '\n",
      "    '0.031*\"comment\" + 0.021*\"activist\" + 0.021*\"speak\" + 0.011*\"people\" + '\n",
      "    '0.010*\"playing\" + 0.008*\"react\"')\n",
      "(   75,\n",
      "    '0.248*\"really\" + 0.146*\"things\" + 0.068*\"worse\" + 0.058*\"scientist\" + '\n",
      "    '0.053*\"scandal\" + 0.031*\"water\" + 0.028*\"realize\" + 0.028*\"people\" + '\n",
      "    '0.021*\"explain\" + 0.018*\"credit\"')\n",
      "(   83,\n",
      "    '0.307*\"state\" + 0.109*\"country\" + 0.106*\"government\" + 0.051*\"seem\" + '\n",
      "    '0.051*\"unite\" + 0.050*\"decade\" + 0.029*\"community\" + 0.029*\"people\" + '\n",
      "    '0.023*\"local\" + 0.015*\"could\"')\n",
      "(   70,\n",
      "    '0.383*\"republican\" + 0.152*\"democrat\" + 0.062*\"senate\" + 0.046*\"take\" + '\n",
      "    '0.038*\"security\" + 0.036*\"victory\" + 0.034*\"sexual\" + 0.033*\"assault\" + '\n",
      "    '0.018*\"allegation\" + 0.013*\"explain\"')\n",
      "(   5,\n",
      "    '0.262*\"america\" + 0.175*\"problem\" + 0.078*\"family\" + 0.064*\"crisis\" + '\n",
      "    '0.064*\"explain\" + 0.050*\"china\" + 0.035*\"ignore\" + 0.027*\"attention\" + '\n",
      "    '0.018*\"completely\" + 0.015*\"could\"')\n",
      "(   66,\n",
      "    '0.340*\"obama\" + 0.305*\"president\" + 0.040*\"immigrant\" + 0.027*\"action\" + '\n",
      "    '0.022*\"george\" + 0.019*\"valley\" + 0.019*\"forget\" + 0.018*\"anyway\" + '\n",
      "    '0.018*\"silicon\" + 0.017*\"favorite\"')\n",
      "(   24,\n",
      "    '0.133*\"chart\" + 0.129*\"story\" + 0.091*\"history\" + 0.079*\"shooting\" + '\n",
      "    '0.062*\"understand\" + 0.046*\"protest\" + 0.041*\"decision\" + 0.036*\"show\" + '\n",
      "    '0.032*\"movement\" + 0.029*\"tell\"')\n",
      "(   19,\n",
      "    '0.791*\"trump\" + 0.051*\"could\" + 0.015*\"lesson\" + 0.013*\"come\" + '\n",
      "    '0.009*\"angry\" + 0.008*\"might\" + 0.007*\"hampshire\" + 0.006*\"devastate\" + '\n",
      "    '0.006*\"sarah\" + 0.006*\"letting\"')\n"
     ]
    }
   ],
   "source": [
    "print(\"Allocated models of each topic...\")\n",
    "\n",
    "topics = ldamodel.print_topics()\n",
    "for topic in topics:\n",
    "    pp.pprint(topic)"
   ]
  },
  {
   "cell_type": "markdown",
   "metadata": {},
   "source": [
    "Topic 53 is represented as '0.127*\"book\" + 0.060*\"baltimore\" + 0.052*\"county\" + 0.052*\"dream\" + 0.049*\"corruption\" + 0.044*\"influence\" + 0.034*\"football\" + 0.033*\"prosecutor\" + 0.032*\"twist\" + 0.029*\"louis\"'\n",
    "\n",
    "It means the top 10 keywords that contribute to this topic are: ‘book’, ‘baltimore’, ‘county’.. and so on and the weight of ‘book’ on topic 53 is 0.127.\n",
    "\n",
    "The weights reflect how important a keyword is to that topic.\n",
    "\n",
    "Looking at these keywords, can you guess what this topic could be. You may summarise it either as ‘country lifestyle’ or ‘village’.\n",
    "\n",
    "Likewise, can you go through the remaining topic keywords and judge what the topic is."
   ]
  },
  {
   "cell_type": "markdown",
   "metadata": {},
   "source": [
    "Topic 5 includes words like “america”, \"problem\", \"family\", \"ignore\" and \"crisis\" which sounds like a topic related to national issues.\n",
    "\n",
    "Topic 66 includes words like “obama”, “president”, “immigrant” and \"george\"; it is definitely a politics related topic.\n",
    "\n",
    "Topic 53 includes words like “book”, “baltimore”, “county”, \"louis\" and “dream”, sounds like a topic related to country lifestyle. and so on.\n",
    "\n",
    "With LDA, we can see that different documents have different topics, and the discriminations are obvious."
   ]
  },
  {
   "cell_type": "markdown",
   "metadata": {},
   "source": [
    "### 12) Model Evaluation"
   ]
  },
  {
   "cell_type": "markdown",
   "metadata": {},
   "source": [
    "#### Model Perplexity and Coherence Score"
   ]
  },
  {
   "cell_type": "markdown",
   "metadata": {},
   "source": [
    "Model perplexity and topic coherence provide a convenient measure to judge how good a given topic model is. Topic coherence score can be good metric to find out an optimum value of number of topics"
   ]
  },
  {
   "cell_type": "code",
   "execution_count": 25,
   "metadata": {},
   "outputs": [
    {
     "name": "stdout",
     "output_type": "stream",
     "text": [
      "\n",
      "Perplexity:  -22.932056126218093\n",
      "\n",
      "Coherence Score:  0.5751547973447124\n"
     ]
    }
   ],
   "source": [
    "# Compute Perplexity\n",
    "print('\\nPerplexity: ', ldamodel.log_perplexity(corpus))  # a measure of how good the model is. lower the better.\n",
    "\n",
    "# Compute Coherence Score\n",
    "coherence_model_lda = CoherenceModel(model=ldamodel, texts=text_data, dictionary=dictionary, coherence='c_v')\n",
    "coherence_lda = coherence_model_lda.get_coherence()\n",
    "print('\\nCoherence Score: ', coherence_lda)"
   ]
  },
  {
   "cell_type": "markdown",
   "metadata": {},
   "source": [
    "### 13) Testing"
   ]
  },
  {
   "cell_type": "code",
   "execution_count": 26,
   "metadata": {
    "scrolled": false
   },
   "outputs": [
    {
     "name": "stderr",
     "output_type": "stream",
     "text": [
      "  1%|          | 51/5455 [00:00<00:10, 503.29it/s]"
     ]
    },
    {
     "name": "stdout",
     "output_type": "stream",
     "text": [
      "Testing LDA model on test dataframe...\n"
     ]
    },
    {
     "name": "stderr",
     "output_type": "stream",
     "text": [
      "100%|██████████| 5455/5455 [00:10<00:00, 541.89it/s]\n"
     ]
    }
   ],
   "source": [
    "print(\"Testing LDA model on test dataframe...\")\n",
    "\n",
    "doc_bow = []\n",
    "doc_topics = []\n",
    "for row in tqdm(df_test['documents']):\n",
    "    row = prepare_text_for_lda(row)\n",
    "    row_bow = dictionary.doc2bow(row)\n",
    "    doc_bow.append(row_bow)\n",
    "    doc_topics.append(ldamodel.get_document_topics(row_bow))"
   ]
  },
  {
   "cell_type": "code",
   "execution_count": 27,
   "metadata": {
    "scrolled": false
   },
   "outputs": [],
   "source": [
    "# See test Results\n",
    "\n",
    "# pp.pprint(doc_bow)\n",
    "# pp.pprint(doc_topics)"
   ]
  },
  {
   "cell_type": "code",
   "execution_count": 28,
   "metadata": {},
   "outputs": [
    {
     "name": "stdout",
     "output_type": "stream",
     "text": [
      "Example Test Result:\n",
      "Obama wants to fight gerrymandering once he leaves office. He should look to Canada for advice.. Our neighbor to the north solved its gerrymandering problem decades ago.\n",
      "\n",
      "4/20: National Weed Day, explained. Tens of thousands are celebrating a less traditional holiday this year: 4/20.\n",
      "\n",
      "You're Shakespeare, but you're playing Hamlet as well: Gregory Rabassa on translation. Gregory Rabassa, who died Tuesday, is probably the reason you've been able to read the works of Gabriel Garcia Marquez or Julio Cortazar.\n",
      "\n",
      "This awesome footage of DC was shot by an illegal drone. And the troubling things it tells us about the future of surveillance.\n",
      "\n",
      "A viewer's guide to the 2016 National Spelling Bee. What you need to know before the carnage begins.\n",
      "\n"
     ]
    }
   ],
   "source": [
    "print(\"Example Test Result:\")\n",
    "\n",
    "for i in df_test['documents'].head():\n",
    "    print(i)\n",
    "    print(\"\")"
   ]
  },
  {
   "cell_type": "code",
   "execution_count": 29,
   "metadata": {},
   "outputs": [
    {
     "name": "stdout",
     "output_type": "stream",
     "text": [
      "[   (16, 1),\n",
      "    (61, 1),\n",
      "    (72, 1),\n",
      "    (444, 1),\n",
      "    (764, 1),\n",
      "    (807, 1),\n",
      "    (842, 1),\n",
      "    (893, 2),\n",
      "    (1159, 1),\n",
      "    (1291, 1),\n",
      "    (2736, 1),\n",
      "    (3147, 1),\n",
      "    (4633, 1)]\n",
      "[   (5, 0.05418119),\n",
      "    (15, 0.050385818),\n",
      "    (19, 0.012430273),\n",
      "    (40, 0.051636316),\n",
      "    (43, 0.04971525),\n",
      "    (47, 0.051188823),\n",
      "    (49, 0.05030443),\n",
      "    (55, 0.050453342),\n",
      "    (60, 0.098708674),\n",
      "    (66, 0.054648157),\n",
      "    (74, 0.050949663),\n",
      "    (83, 0.053952634),\n",
      "    (84, 0.052151565),\n",
      "    (89, 0.052355338)]\n"
     ]
    }
   ],
   "source": [
    "# One test example\n",
    "\n",
    "for i in df_test['documents'].head(1):\n",
    "    i = prepare_text_for_lda(i)\n",
    "    i_bow = dictionary.doc2bow(i)\n",
    "    pp.pprint(i_bow)\n",
    "    pp.pprint(ldamodel.get_document_topics(i_bow))"
   ]
  },
  {
   "cell_type": "markdown",
   "metadata": {},
   "source": [
    "Gensim creates a unique id for each word in the document. The produced corpus shown above is a mapping of (word_id, word_frequency).\n",
    "\n",
    "For example; (444, 1) above implies, word id 444 occurs once in the first document. Likewise, word id 893 occurs twice and so on.\n",
    "\n",
    "This is used as the input by the LDA model.\n",
    "\n",
    "If you want to see what word a given id corresponds to, pass the id as a key to the dictionary."
   ]
  },
  {
   "cell_type": "code",
   "execution_count": 31,
   "metadata": {},
   "outputs": [
    {
     "data": {
      "text/plain": [
       "'gerrymander'"
      ]
     },
     "execution_count": 31,
     "metadata": {},
     "output_type": "execute_result"
    }
   ],
   "source": [
    "dictionary[893]"
   ]
  },
  {
   "cell_type": "markdown",
   "metadata": {},
   "source": [
    "Our LDA model is making predictions about the first sentence (document) in the output of head(). We can read the sentence and infer that the document is about politics. The LDA output shows that topic 60 has the highest probability assigned, and topic 66 has the second highest probability assigned.\n",
    "\n",
    "We can look at our LDA model's frequent keywords output for topic 60. They are about politics. Therefore, we can confirm that our model works!"
   ]
  },
  {
   "cell_type": "markdown",
   "metadata": {},
   "source": [
    "The factors corresponding to each component (topic) should add up to 1. That’s not a coincidence. Indeed, LDA considers documents as being generated by a mixture of the topics. The purpose of LDA is to compute how much of the document was generated by which topic.\n",
    "\n",
    "Also the sum of all the probabilities of a document belonging to each and every class should also be 1.\n",
    "\n",
    "LDA is an iterative algorithm. Here are the two main steps:\n",
    "<ol>\n",
    "    <li>In the initialization stage, each word is assigned to a random topic.</li>\n",
    "    <li>Iteratively, the algorithm goes through each word and reassigns the word to a topic taking into consideration:</li>\n",
    "    <ol>&bull; What’s the probability of the word belonging to a topic</ol>\n",
    "    <ol>&bull; What’s the probability of the document to be generated by a topic</ol>\n",
    "</ol>\n",
    "</ol>\n",
    "[Source: https://nlpforhackers.io/topic-modeling/]"
   ]
  },
  {
   "cell_type": "markdown",
   "metadata": {},
   "source": [
    "### 14) Cross-Validation"
   ]
  },
  {
   "cell_type": "markdown",
   "metadata": {},
   "source": [
    "#### Optimal value for number of topics"
   ]
  },
  {
   "cell_type": "markdown",
   "metadata": {},
   "source": [
    "The approach to finding the optimal number of topics is to build many LDA models with different values of number of topics (k); where k is a hyperparameter, and pick the one that gives the highest coherence value.\n",
    "\n",
    "Choosing a ‘k’ that marks the end of a rapid growth of topic coherence usually offers meaningful and interpretable topics. Picking an even higher value can sometimes provide more granular sub-topics. Picking a higher stable value will lead to overfitting. Whereas, picking a small value will underfit our model.\n",
    "\n",
    "If you see the same keywords being repeated in multiple topics, it’s probably a sign that the ‘k’ is too large."
   ]
  },
  {
   "cell_type": "markdown",
   "metadata": {},
   "source": [
    "I ran the LDA model for different values of number_of_topics and recorded their coherence scores. The data collected is represented in a tabular form below:"
   ]
  },
  {
   "cell_type": "markdown",
   "metadata": {},
   "source": [
    "| Number of Topics | Coherence Scores |\n",
    "|:----------------:|:----------------:|\n",
    "|        50        |       0.37       |\n",
    "|        64        |       0.52       |\n",
    "|        70        |       0.53       |\n",
    "|        80        |       0.54       |\n",
    "|        90        |       0.56       |\n",
    "|        100       |       0.588      |\n",
    "|        101       |       0.585      |\n",
    "|        102       |       0.575      |\n",
    "|        103       |       0.58       |\n",
    "|        104       |       0.575      |\n",
    "|        109       |       0.57       |\n",
    "|        117       |       0.566      |\n",
    "|        123       |       0.564      |\n",
    "|        137       |       0.561      |\n",
    "|        165       |       0.54       |\n",
    "|        227       |       0.523      |"
   ]
  },
  {
   "cell_type": "markdown",
   "metadata": {},
   "source": [
    "Let us try to plot this data and infer the optimum value of number_of_topics"
   ]
  },
  {
   "cell_type": "code",
   "execution_count": 53,
   "metadata": {},
   "outputs": [
    {
     "data": {
      "image/png": "[encoded data removed]",
      "text/plain": [
       "<matplotlib.figure.Figure at 0x1a2c502630>"
      ]
     },
     "metadata": {},
     "output_type": "display_data"
    }
   ],
   "source": [
    "# Show graph\n",
    "no_of_topics = [50, 64, 70, 80, 90, 100, 101, 102, 103, 104, 109, 117, 123, 137, 165, 227]\n",
    "coherence_scores = [0.37, 0.52, 0.53, 0.54, 0.56, 0.585, 0.584, 0.582, 0.58, 0.575, 0.57, 0.566, 0.564, 0.561, 0.54, 0.523]\n",
    "plt.plot(no_of_topics, coherence_scores)\n",
    "plt.xlabel(\"Num Topics\")\n",
    "plt.ylabel(\"Coherence score\")\n",
    "plt.legend((\"coherence_values\"), loc='best')\n",
    "plt.show()"
   ]
  },
  {
   "cell_type": "code",
   "execution_count": null,
   "metadata": {},
   "outputs": [],
   "source": []
  }
 ],
 "metadata": {
  "kernelspec": {
   "display_name": "Python 3",
   "language": "python",
   "name": "python3"
  },
  "language_info": {
   "codemirror_mode": {
    "name": "ipython",
    "version": 3
   },
   "file_extension": ".py",
   "mimetype": "text/x-python",
   "name": "python",
   "nbconvert_exporter": "python",
   "pygments_lexer": "ipython3",
   "version": "3.6.4"
  }
 },
 "nbformat": 4,
 "nbformat_minor": 2
}
